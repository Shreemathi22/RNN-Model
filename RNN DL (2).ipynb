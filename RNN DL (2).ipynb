{
 "cells": [
  {
   "cell_type": "code",
   "execution_count": 1,
   "id": "42ef8c07",
   "metadata": {},
   "outputs": [],
   "source": [
    "from transformers import AutoTokenizer, AutoModelForSequenceClassification\n",
    "import torch\n",
    "import requests\n",
    "from bs4 import BeautifulSoup\n",
    "import re\n",
    "import pandas as pd"
   ]
  },
  {
   "cell_type": "code",
   "execution_count": 2,
   "id": "f710e054",
   "metadata": {},
   "outputs": [],
   "source": [
    "tokenizer = AutoTokenizer.from_pretrained('nlptown/bert-base-multilingual-uncased-sentiment')\n",
    "model = AutoModelForSequenceClassification.from_pretrained('nlptown/bert-base-multilingual-uncased-sentiment')"
   ]
  },
  {
   "cell_type": "code",
   "execution_count": 3,
   "id": "14b52892",
   "metadata": {},
   "outputs": [],
   "source": [
    "tokens = tokenizer.encode('It was good but couldve been better. Great', return_tensors='pt')"
   ]
  },
  {
   "cell_type": "code",
   "execution_count": 4,
   "id": "ae754e42",
   "metadata": {},
   "outputs": [],
   "source": [
    "result = model(tokens)"
   ]
  },
  {
   "cell_type": "code",
   "execution_count": 5,
   "id": "ede6ae04",
   "metadata": {},
   "outputs": [
    {
     "data": {
      "text/plain": [
       "tensor([[-2.7768, -1.2353,  1.4419,  1.9804,  0.4584]],\n",
       "       grad_fn=<AddmmBackward0>)"
      ]
     },
     "execution_count": 5,
     "metadata": {},
     "output_type": "execute_result"
    }
   ],
   "source": [
    "result.logits"
   ]
  },
  {
   "cell_type": "code",
   "execution_count": 6,
   "id": "fbe59001",
   "metadata": {},
   "outputs": [
    {
     "data": {
      "text/plain": [
       "4"
      ]
     },
     "execution_count": 6,
     "metadata": {},
     "output_type": "execute_result"
    }
   ],
   "source": [
    "int(torch.argmax(result.logits))+1"
   ]
  },
  {
   "cell_type": "code",
   "execution_count": 7,
   "id": "57056783",
   "metadata": {},
   "outputs": [],
   "source": [
    "r = requests.get('https://www.yelp.com/biz/um-ma-san-francisco-3?osq=Restaurants')\n",
    "soup = BeautifulSoup(r.text, 'html.parser')\n",
    "regex = re.compile('.*comment.*')\n",
    "results = soup.find_all('p', {'class':regex})\n",
    "reviews = [result.text for result in results]"
   ]
  },
  {
   "cell_type": "code",
   "execution_count": 8,
   "id": "62658025",
   "metadata": {},
   "outputs": [
    {
     "data": {
      "text/plain": [
       "[\"One of the best dining experiences I've had in a very long time. My stomach is in bliss :)\",\n",
       " \"Love coming here! Service is always so friendly. My favorite dish here is the rockin roe - it's amazing!\",\n",
       " 'We came to Um Ma for my friends birthday and we left feeling quite disappointed. I heard this place used to be on the Michelin guide? So I was a really excited but the food was so poor quality. We ordered the chicken wings, seafood pancake, pork belly, Korean ribs and tteokbokki. The chicken wings were ok - very standard. The seafood pancake was a bit different, lots of batter not a lot of seafood. The pork belly was lack luster and seasoning seemed like a normal bbq sauce. The Korean ribs were hard to chew and not tender at all. Tteokbokki had a nice texture and an interesting citrus tang to it. Overall, everything was just kind of  - it felt very non-authentic. Especially for the price, I would stick to finding better Korean food somewhere else. I would say the only perk was their herbal tea. It has free refills!',\n",
       " \"If you're looking for good Korean food, find somewhere else. Avoid here at all cost. Over priced, tasteless food, poor service. Ordered the table top kalbi which was $50/lb . Barely any meat because it's bone-in. You pay separately for ssam (poor quality lettuce wraps) and also separately for a few sauces which were watered down and did not pair well with the meat at all. Side dishes are poor as well. Also ordered the raw marinated crab and when I say this was the worst raw marinated crab I've ever had, please trust me. They should take it off the menu because it's honestly a disgrace to Korean food and culture to call that a raw marinated crab dish. I really hope people don't come here and eat to think that this is Korean food because it really is not a good representation.\",\n",
       " 'Large covered outdoor patio area with heat lamps. Plenty of seating options. Service was good, they came to check on us throughout the night. Food came out at a reasonable pace. Sul lung tang - noodles and broth were good, meat was really overcooked The marinated crab was the main highlight for me here! Well flavored, pretty easy to eat, many pieces of crab. Definitely a must order Bulgogi was fine. Good amount of food, well marinated',\n",
       " 'Got the kimchi fried rice with bulgogi and bibimbap with bulgogi (I found out later that adding bulgogi is around 6~7 dollars more, so in total they were around $25 each)Sat at the back patio which had a nice environment with lots of warmers (almost to the point where it was TOO hot haha) so I really enjoyed the quaint space in the neighborhood.I thought the bulgogi and kimchi fried rice was seasoned quite well and the purple rice get it a stickier more chewy texture which I was personally fine with but can imagine some ppl preferring white rice. I think the gochujang sauce was a bit sweeter than it could be but otherwise the ingredients were very fresh!Overall a great Korean spot that is on the pricier side - but they do pack on the bulgogi if you add it on',\n",
       " \"Very cute modern Korean spot in the Sunset. They take reservations; would recommend reserving a spot in their back patio.We really liked:-Corn cheese bone marrow: sweet korean cheesy corn pairs surprisingly well with bone marrow! a fun and interesting dish (a must order at um ma)-Kimchi fried rice: um ma's is made with purple rice and an onsen egg -- a unique twist on traditional kimchi fried rice\",\n",
       " \"Family went to Um Ma over the weekend for lunch! It's a great space, with some indoor dining and a large patio in the back with outdoor covered dining. We sat outside in the back. Great ambience! I love that they have quite a few veggie options (including vegan)! They give you unlimited banchan (side dishes) for the table as well as a big helping of black rice. The banchan consisted of pickled cucumbers, broccoli, radish and kimchi. So good! We had to stop ourselves from filling up on just that! Hubby was super excited to order their chicken wings. He order 10 wings and for 5 citrus gochujan and 5 ginger sesame soy. He was absolutely ecstatic with his order and inhaled it very quickly! According to him, the best wings he has eaten in a long time! My daughter and I decided to share the scallion pancake (which hubby helped eat), veggie bibimbap with tofu and the tofu and the vegan soondubu-jjigae (tofu, spicy soup). There was so much more I wanted to try on the menu, but I am glad we didn't order more because it was a ton of food! The scallion pancake was super yummy! The bibimbap is a huge serving! More than enough for two people! So delicious!!! Yummm! The soup was really yummy as well...on the light side (not a heavy soup). All in all a delicious meal! Can't wait to go back and try some of their other veggie options.\",\n",
       " 'Adding .5 stars more since they had us in the patio during this Indian summer weather. Out of everything we ordered, the LA Kalbi was the best dish! The portions seem a bit small but the ambiance was great. They took a twist with the kimchi fried rice and made it with purple rice which was a bit odd for me. A bit disappointed with the tteok-bokki since I asked for ramen but they threw in an extra egg but still very flavorful!I really like the option to pay through the QR code. Paying was efficient and quick. Service was 7.5/10!',\n",
       " \"Dec 2022High notes and low notes. We came by here at night and were seated in the back. Sorry for the red light bathing everything as far as the photos. There weren't too many people when we arrived but more and more people arrived after. Service was hit and miss over the course, helped with any questions we had, water refills infrequent to slim when busy. The decor was nice and certainly designed for groups to chill.We had gotten a seafood/kimchi pancake, wings, charred gai lon, and the braised potatoes to share. I had gotten the vegan soondubu. The food was pretty good, comes out in waves. The kitchen can be slow when it gets busy. Best I liked were the charred gai lon and the pancakes. The char really went a long way adding good flavor. The pancake was crispy and had good texture. As far as the soups there were definitely some mix up in orders. Some came late or were missed with us having to wave someone down. Mine was not the vegan I had ordered and had meat in it. Thankfully, I'm not devout as a consumer but its the principle. It had good flavor nonetheless.A lot of soju washed things over for us, but from what I could tell it wasn't just our table that was experiencing the issues.\"]"
      ]
     },
     "execution_count": 8,
     "metadata": {},
     "output_type": "execute_result"
    }
   ],
   "source": [
    "reviews"
   ]
  },
  {
   "cell_type": "code",
   "execution_count": 9,
   "id": "d78f583d",
   "metadata": {},
   "outputs": [
    {
     "name": "stdout",
     "output_type": "stream",
     "text": [
      "                                              Review\n",
      "0  One of the best dining experiences I've had in...\n",
      "1  Love coming here! Service is always so friendl...\n",
      "2  We came to Um Ma for my friends birthday and w...\n",
      "3  If you're looking for good Korean food, find s...\n",
      "4  Large covered outdoor patio area with heat lam...\n",
      "5  Got the kimchi fried rice with bulgogi and bib...\n",
      "6  Very cute modern Korean spot in the Sunset. Th...\n",
      "7  Family went to Um Ma over the weekend for lunc...\n",
      "8  Adding .5 stars more since they had us in the ...\n",
      "9  Dec 2022High notes and low notes. We came by h...\n"
     ]
    }
   ],
   "source": [
    "df = pd.DataFrame({'Review': reviews})\n",
    "print(df)"
   ]
  },
  {
   "cell_type": "code",
   "execution_count": 10,
   "id": "0e64719b",
   "metadata": {},
   "outputs": [
    {
     "data": {
      "text/html": [
       "<div>\n",
       "<style scoped>\n",
       "    .dataframe tbody tr th:only-of-type {\n",
       "        vertical-align: middle;\n",
       "    }\n",
       "\n",
       "    .dataframe tbody tr th {\n",
       "        vertical-align: top;\n",
       "    }\n",
       "\n",
       "    .dataframe thead th {\n",
       "        text-align: right;\n",
       "    }\n",
       "</style>\n",
       "<table border=\"1\" class=\"dataframe\">\n",
       "  <thead>\n",
       "    <tr style=\"text-align: right;\">\n",
       "      <th></th>\n",
       "      <th>Review</th>\n",
       "    </tr>\n",
       "  </thead>\n",
       "  <tbody>\n",
       "    <tr>\n",
       "      <th>0</th>\n",
       "      <td>One of the best dining experiences I've had in...</td>\n",
       "    </tr>\n",
       "    <tr>\n",
       "      <th>1</th>\n",
       "      <td>Love coming here! Service is always so friendl...</td>\n",
       "    </tr>\n",
       "    <tr>\n",
       "      <th>2</th>\n",
       "      <td>We came to Um Ma for my friends birthday and w...</td>\n",
       "    </tr>\n",
       "    <tr>\n",
       "      <th>3</th>\n",
       "      <td>If you're looking for good Korean food, find s...</td>\n",
       "    </tr>\n",
       "    <tr>\n",
       "      <th>4</th>\n",
       "      <td>Large covered outdoor patio area with heat lam...</td>\n",
       "    </tr>\n",
       "    <tr>\n",
       "      <th>5</th>\n",
       "      <td>Got the kimchi fried rice with bulgogi and bib...</td>\n",
       "    </tr>\n",
       "    <tr>\n",
       "      <th>6</th>\n",
       "      <td>Very cute modern Korean spot in the Sunset. Th...</td>\n",
       "    </tr>\n",
       "    <tr>\n",
       "      <th>7</th>\n",
       "      <td>Family went to Um Ma over the weekend for lunc...</td>\n",
       "    </tr>\n",
       "    <tr>\n",
       "      <th>8</th>\n",
       "      <td>Adding .5 stars more since they had us in the ...</td>\n",
       "    </tr>\n",
       "    <tr>\n",
       "      <th>9</th>\n",
       "      <td>Dec 2022High notes and low notes. We came by h...</td>\n",
       "    </tr>\n",
       "  </tbody>\n",
       "</table>\n",
       "</div>"
      ],
      "text/plain": [
       "                                              Review\n",
       "0  One of the best dining experiences I've had in...\n",
       "1  Love coming here! Service is always so friendl...\n",
       "2  We came to Um Ma for my friends birthday and w...\n",
       "3  If you're looking for good Korean food, find s...\n",
       "4  Large covered outdoor patio area with heat lam...\n",
       "5  Got the kimchi fried rice with bulgogi and bib...\n",
       "6  Very cute modern Korean spot in the Sunset. Th...\n",
       "7  Family went to Um Ma over the weekend for lunc...\n",
       "8  Adding .5 stars more since they had us in the ...\n",
       "9  Dec 2022High notes and low notes. We came by h..."
      ]
     },
     "execution_count": 10,
     "metadata": {},
     "output_type": "execute_result"
    }
   ],
   "source": [
    "df.head(20)"
   ]
  },
  {
   "cell_type": "code",
   "execution_count": 19,
   "id": "2ff5e3ca",
   "metadata": {},
   "outputs": [],
   "source": [
    "df['review']=df['review'].astype('str')"
   ]
  },
  {
   "cell_type": "code",
   "execution_count": 20,
   "id": "a576f73f",
   "metadata": {},
   "outputs": [],
   "source": [
    "df['result']=df['review'].apply(lambda x:sentiment_analysis(x))"
   ]
  },
  {
   "cell_type": "code",
   "execution_count": 50,
   "id": "f9ac509f",
   "metadata": {},
   "outputs": [],
   "source": [
    "df['sentiment']=df['result'].apply(lambda x:(x[0]['label']))"
   ]
  },
  {
   "cell_type": "code",
   "execution_count": 51,
   "id": "441af1c2",
   "metadata": {},
   "outputs": [
    {
     "data": {
      "text/plain": [
       "Index(['review', 'result', 'sentiment', 'score'], dtype='object')"
      ]
     },
     "execution_count": 51,
     "metadata": {},
     "output_type": "execute_result"
    }
   ],
   "source": [
    "df.columns"
   ]
  },
  {
   "cell_type": "code",
   "execution_count": 52,
   "id": "2958affa",
   "metadata": {},
   "outputs": [
    {
     "data": {
      "text/html": [
       "<div>\n",
       "<style scoped>\n",
       "    .dataframe tbody tr th:only-of-type {\n",
       "        vertical-align: middle;\n",
       "    }\n",
       "\n",
       "    .dataframe tbody tr th {\n",
       "        vertical-align: top;\n",
       "    }\n",
       "\n",
       "    .dataframe thead th {\n",
       "        text-align: right;\n",
       "    }\n",
       "</style>\n",
       "<table border=\"1\" class=\"dataframe\">\n",
       "  <thead>\n",
       "    <tr style=\"text-align: right;\">\n",
       "      <th></th>\n",
       "      <th>review</th>\n",
       "      <th>result</th>\n",
       "      <th>sentiment</th>\n",
       "      <th>score</th>\n",
       "    </tr>\n",
       "  </thead>\n",
       "  <tbody>\n",
       "    <tr>\n",
       "      <th>0</th>\n",
       "      <td>One of the best dining experiences I've had in...</td>\n",
       "      <td>[{'label': 'POSITIVE', 'score': 0.998926699161...</td>\n",
       "      <td>POSITIVE</td>\n",
       "      <td>0.998927</td>\n",
       "    </tr>\n",
       "    <tr>\n",
       "      <th>1</th>\n",
       "      <td>Love coming here! Service is always so friendl...</td>\n",
       "      <td>[{'label': 'POSITIVE', 'score': 0.998940050601...</td>\n",
       "      <td>POSITIVE</td>\n",
       "      <td>0.998940</td>\n",
       "    </tr>\n",
       "    <tr>\n",
       "      <th>2</th>\n",
       "      <td>We came to Um Ma for my friends birthday and w...</td>\n",
       "      <td>[{'label': 'NEGATIVE', 'score': 0.999512314796...</td>\n",
       "      <td>NEGATIVE</td>\n",
       "      <td>0.999512</td>\n",
       "    </tr>\n",
       "    <tr>\n",
       "      <th>3</th>\n",
       "      <td>If you're looking for good Korean food, find s...</td>\n",
       "      <td>[{'label': 'NEGATIVE', 'score': 0.999515295028...</td>\n",
       "      <td>NEGATIVE</td>\n",
       "      <td>0.999515</td>\n",
       "    </tr>\n",
       "    <tr>\n",
       "      <th>4</th>\n",
       "      <td>Large covered outdoor patio area with heat lam...</td>\n",
       "      <td>[{'label': 'POSITIVE', 'score': 0.998869717121...</td>\n",
       "      <td>POSITIVE</td>\n",
       "      <td>0.998870</td>\n",
       "    </tr>\n",
       "    <tr>\n",
       "      <th>5</th>\n",
       "      <td>Got the kimchi fried rice with bulgogi and bib...</td>\n",
       "      <td>[{'label': 'POSITIVE', 'score': 0.998916745185...</td>\n",
       "      <td>POSITIVE</td>\n",
       "      <td>0.998917</td>\n",
       "    </tr>\n",
       "    <tr>\n",
       "      <th>6</th>\n",
       "      <td>Very cute modern Korean spot in the Sunset. Th...</td>\n",
       "      <td>[{'label': 'POSITIVE', 'score': 0.998929798603...</td>\n",
       "      <td>POSITIVE</td>\n",
       "      <td>0.998930</td>\n",
       "    </tr>\n",
       "    <tr>\n",
       "      <th>7</th>\n",
       "      <td>Family went to Um Ma over the weekend for lunc...</td>\n",
       "      <td>[{'label': 'POSITIVE', 'score': 0.998914480209...</td>\n",
       "      <td>POSITIVE</td>\n",
       "      <td>0.998914</td>\n",
       "    </tr>\n",
       "    <tr>\n",
       "      <th>8</th>\n",
       "      <td>Adding .5 stars more since they had us in the ...</td>\n",
       "      <td>[{'label': 'POSITIVE', 'score': 0.998905658721...</td>\n",
       "      <td>POSITIVE</td>\n",
       "      <td>0.998906</td>\n",
       "    </tr>\n",
       "    <tr>\n",
       "      <th>9</th>\n",
       "      <td>Dec 2022High notes and low notes. We came by h...</td>\n",
       "      <td>[{'label': 'POSITIVE', 'score': 0.998561441898...</td>\n",
       "      <td>POSITIVE</td>\n",
       "      <td>0.998561</td>\n",
       "    </tr>\n",
       "  </tbody>\n",
       "</table>\n",
       "</div>"
      ],
      "text/plain": [
       "                                              review   \n",
       "0  One of the best dining experiences I've had in...  \\\n",
       "1  Love coming here! Service is always so friendl...   \n",
       "2  We came to Um Ma for my friends birthday and w...   \n",
       "3  If you're looking for good Korean food, find s...   \n",
       "4  Large covered outdoor patio area with heat lam...   \n",
       "5  Got the kimchi fried rice with bulgogi and bib...   \n",
       "6  Very cute modern Korean spot in the Sunset. Th...   \n",
       "7  Family went to Um Ma over the weekend for lunc...   \n",
       "8  Adding .5 stars more since they had us in the ...   \n",
       "9  Dec 2022High notes and low notes. We came by h...   \n",
       "\n",
       "                                              result sentiment     score  \n",
       "0  [{'label': 'POSITIVE', 'score': 0.998926699161...  POSITIVE  0.998927  \n",
       "1  [{'label': 'POSITIVE', 'score': 0.998940050601...  POSITIVE  0.998940  \n",
       "2  [{'label': 'NEGATIVE', 'score': 0.999512314796...  NEGATIVE  0.999512  \n",
       "3  [{'label': 'NEGATIVE', 'score': 0.999515295028...  NEGATIVE  0.999515  \n",
       "4  [{'label': 'POSITIVE', 'score': 0.998869717121...  POSITIVE  0.998870  \n",
       "5  [{'label': 'POSITIVE', 'score': 0.998916745185...  POSITIVE  0.998917  \n",
       "6  [{'label': 'POSITIVE', 'score': 0.998929798603...  POSITIVE  0.998930  \n",
       "7  [{'label': 'POSITIVE', 'score': 0.998914480209...  POSITIVE  0.998914  \n",
       "8  [{'label': 'POSITIVE', 'score': 0.998905658721...  POSITIVE  0.998906  \n",
       "9  [{'label': 'POSITIVE', 'score': 0.998561441898...  POSITIVE  0.998561  "
      ]
     },
     "execution_count": 52,
     "metadata": {},
     "output_type": "execute_result"
    }
   ],
   "source": [
    "df.head(20)"
   ]
  },
  {
   "cell_type": "code",
   "execution_count": 53,
   "id": "17eaa502",
   "metadata": {},
   "outputs": [],
   "source": [
    "from transformers import pipeline\n",
    "sentiment_analysis = pipeline(\"sentiment-analysis\",model=\"siebert/sentiment-roberta-large-english\")"
   ]
  },
  {
   "cell_type": "code",
   "execution_count": 13,
   "id": "e348dc6f",
   "metadata": {},
   "outputs": [],
   "source": [
    "import numpy as np\n",
    "import pandas as pd"
   ]
  },
  {
   "cell_type": "code",
   "execution_count": 14,
   "id": "34b7e758",
   "metadata": {},
   "outputs": [],
   "source": [
    "df = pd.DataFrame(np.array(reviews), columns=['review'])"
   ]
  },
  {
   "cell_type": "code",
   "execution_count": 15,
   "id": "becdf2bc",
   "metadata": {},
   "outputs": [
    {
     "data": {
      "text/plain": [
       "'We came to Um Ma for my friends birthday and we left feeling quite disappointed. I heard this place used to be on the Michelin guide? So I was a really excited but the food was so poor quality. We ordered the chicken wings, seafood pancake, pork belly, Korean ribs and tteokbokki. The chicken wings were ok - very standard. The seafood pancake was a bit different, lots of batter not a lot of seafood. The pork belly was lack luster and seasoning seemed like a normal bbq sauce. The Korean ribs were hard to chew and not tender at all. Tteokbokki had a nice texture and an interesting citrus tang to it. Overall, everything was just kind of  - it felt very non-authentic. Especially for the price, I would stick to finding better Korean food somewhere else. I would say the only perk was their herbal tea. It has free refills!'"
      ]
     },
     "execution_count": 15,
     "metadata": {},
     "output_type": "execute_result"
    }
   ],
   "source": [
    "df['review'].iloc[2]"
   ]
  },
  {
   "cell_type": "code",
   "execution_count": 63,
   "id": "cfc01600",
   "metadata": {},
   "outputs": [
    {
     "name": "stdout",
     "output_type": "stream",
     "text": [
      "1/1 [==============================] - 6s 6s/step - loss: 0.6982 - accuracy: 0.1667 - val_loss: 0.6994 - val_accuracy: 0.5000\n",
      "1/1 [==============================] - 0s 66ms/step - loss: 0.6782 - accuracy: 1.0000\n",
      "Test loss: 0.6781981587409973, Test accuracy: 1.0\n"
     ]
    }
   ],
   "source": [
    "import pandas as pd\n",
    "from sklearn.model_selection import train_test_split\n",
    "from sklearn.preprocessing import LabelEncoder\n",
    "from tensorflow.keras.preprocessing.text import Tokenizer\n",
    "from tensorflow.keras.preprocessing.sequence import pad_sequences\n",
    "from tensorflow.keras.models import Sequential\n",
    "from tensorflow.keras.layers import Embedding, LSTM, Dense\n",
    "\n",
    "# Data loading and preprocessing\n",
    "X = df['review']\n",
    "y = df['sentiment']\n",
    "\n",
    "label_encoder = LabelEncoder()\n",
    "y = label_encoder.fit_transform(y)\n",
    "\n",
    "max_words = 10000\n",
    "tokenizer = Tokenizer(num_words=max_words, oov_token=\"<OOV>\")\n",
    "tokenizer.fit_on_texts(X)\n",
    "X_sequences = tokenizer.texts_to_sequences(X)\n",
    "\n",
    "max_len = 100  # Adjust as needed\n",
    "X_padded = pad_sequences(X_sequences, maxlen=max_len)\n",
    "\n",
    "X_train, X_test, y_train, y_test = train_test_split(X_padded, y, test_size=0.2, random_state=42)\n",
    "\n",
    "# Build the RNN model with LSTM\n",
    "model = Sequential()\n",
    "model.add(Embedding(input_dim=max_words, output_dim=128, input_length=max_len))\n",
    "model.add(LSTM(64))  # Use LSTM instead of SimpleRNN\n",
    "model.add(Dense(1, activation='sigmoid'))\n",
    "\n",
    "model.compile(optimizer='adam', loss='binary_crossentropy', metrics=['accuracy'])\n",
    "\n",
    "# Train the model\n",
    "model.fit(X_train, y_train, epochs=1, batch_size=32, validation_split=0.2)\n",
    "\n",
    "# Evaluate the model on the test set\n",
    "loss, accuracy = model.evaluate(X_test, y_test)\n",
    "print(f'Test loss: {loss}, Test accuracy: {accuracy}')\n"
   ]
  },
  {
   "cell_type": "code",
   "execution_count": 58,
   "id": "676aefd9",
   "metadata": {},
   "outputs": [
    {
     "name": "stdout",
     "output_type": "stream",
     "text": [
      "1/1 [==============================] - 0s 315ms/step\n",
      "Predicted sentiment for the sample input: POSITIVE\n"
     ]
    }
   ],
   "source": [
    "# Function to predict sentiment for a sample input\n",
    "def predict_sentiment(model, tokenizer, text, max_len):\n",
    "    text_sequence = tokenizer.texts_to_sequences([text])\n",
    "    padded_sequence = pad_sequences(text_sequence, maxlen=max_len)\n",
    "    predicted_prob = model.predict(padded_sequence)\n",
    "    predicted_label = (predicted_prob > 0.5).astype(int)\n",
    "    predicted_label = label_encoder.inverse_transform(predicted_label.flatten())\n",
    "    return predicted_label[0]\n",
    "\n",
    "# Example usage with a sample input\n",
    "sample_input = \"This restaurant was amazing!\"  # Adjust the input as needed\n",
    "predicted_sentiment = predict_sentiment(model, tokenizer, sample_input, max_len)\n",
    "\n",
    "print(f\"Predicted sentiment for the sample input: {predicted_sentiment}\")"
   ]
  },
  {
   "cell_type": "code",
   "execution_count": 61,
   "id": "97e54c28",
   "metadata": {},
   "outputs": [
    {
     "name": "stdout",
     "output_type": "stream",
     "text": [
      "1/1 [==============================] - 0s 83ms/step\n",
      "Predicted sentiment for the sample input: NEGATIVE\n"
     ]
    }
   ],
   "source": [
    "# Assuming you have already trained the model (the code you provided)\n",
    "\n",
    "# Function to preprocess input text and predict sentiment\n",
    "def predict_sentiment(model, tokenizer, text, max_len):\n",
    "    # Preprocess the input text\n",
    "    text_sequence = tokenizer.texts_to_sequences([text])\n",
    "    padded_sequence = pad_sequences(text_sequence, maxlen=max_len)\n",
    "\n",
    "    # Predict sentiment\n",
    "    predicted_prob = model.predict(padded_sequence)\n",
    "    predicted_label = (predicted_prob > 0.5).astype(int)\n",
    "    predicted_label = label_encoder.inverse_transform(predicted_label.flatten())\n",
    "\n",
    "    return predicted_label[0]\n",
    "\n",
    "# Example usage with a sample input\n",
    "sample_input = \"The food was bad and ambience was not good\"  # Adjust the input as needed\n",
    "predicted_sentiment = predict_sentiment(model, tokenizer, sample_input, max_len)\n",
    "\n",
    "print(f\"Predicted sentiment for the sample input: {predicted_sentiment}\")\n"
   ]
  },
  {
   "cell_type": "code",
   "execution_count": null,
   "id": "8eb74b69",
   "metadata": {},
   "outputs": [],
   "source": []
  }
 ],
 "metadata": {
  "kernelspec": {
   "display_name": "Python 3 (ipykernel)",
   "language": "python",
   "name": "python3"
  },
  "language_info": {
   "codemirror_mode": {
    "name": "ipython",
    "version": 3
   },
   "file_extension": ".py",
   "mimetype": "text/x-python",
   "name": "python",
   "nbconvert_exporter": "python",
   "pygments_lexer": "ipython3",
   "version": "3.11.0"
  }
 },
 "nbformat": 4,
 "nbformat_minor": 5
}
